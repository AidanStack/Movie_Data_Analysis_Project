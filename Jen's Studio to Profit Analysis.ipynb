{
 "cells": [
  {
   "cell_type": "markdown",
   "metadata": {},
   "source": [
    "# Most Profitable Studios Analysis\n",
    "\n",
    "## Recommendation\n",
    "\n",
    "   I'm going to recommend that Microsoft mirror the competition in this industry. The Walt Disney Company purchased 21st Century Fox in 2019 for 71.3 billion, Amazon just recently purchased MGM studios for 8.4 billion, and Warner Media merged with Discovery. Sony Pictures would be a really interesting acquisiton for a tech giant looking to enter the film industry, and I'll show why in this analysis. \n"
   ]
  },
  {
   "cell_type": "markdown",
   "metadata": {},
   "source": [
    "## Step 1: \n",
    "Importing necessary tools"
   ]
  },
  {
   "cell_type": "code",
   "execution_count": 1,
   "metadata": {
    "scrolled": true
   },
   "outputs": [],
   "source": [
    "import pandas as pd\n",
    "import numpy as np\n",
    "import matplotlib\n",
    "import matplotlib.pyplot as plt\n",
    "\n",
    "%matplotlib inline"
   ]
  },
  {
   "cell_type": "markdown",
   "metadata": {},
   "source": [
    "### Step 1.1: \n",
    "Reading in the data"
   ]
  },
  {
   "cell_type": "code",
   "execution_count": 2,
   "metadata": {},
   "outputs": [],
   "source": [
    "tmdb_data = pd.read_csv('tmdb.movies.csv', index_col=0)\n",
    "bom_data = pd.read_csv('bom.movie_gross.csv')"
   ]
  },
  {
   "cell_type": "code",
   "execution_count": 3,
   "metadata": {
    "scrolled": true
   },
   "outputs": [
    {
     "data": {
      "text/html": [
       "<div>\n",
       "<style scoped>\n",
       "    .dataframe tbody tr th:only-of-type {\n",
       "        vertical-align: middle;\n",
       "    }\n",
       "\n",
       "    .dataframe tbody tr th {\n",
       "        vertical-align: top;\n",
       "    }\n",
       "\n",
       "    .dataframe thead th {\n",
       "        text-align: right;\n",
       "    }\n",
       "</style>\n",
       "<table border=\"1\" class=\"dataframe\">\n",
       "  <thead>\n",
       "    <tr style=\"text-align: right;\">\n",
       "      <th></th>\n",
       "      <th>genre_ids</th>\n",
       "      <th>id</th>\n",
       "      <th>original_language</th>\n",
       "      <th>original_title</th>\n",
       "      <th>popularity</th>\n",
       "      <th>release_date</th>\n",
       "      <th>title</th>\n",
       "      <th>vote_average</th>\n",
       "      <th>vote_count</th>\n",
       "    </tr>\n",
       "  </thead>\n",
       "  <tbody>\n",
       "    <tr>\n",
       "      <th>0</th>\n",
       "      <td>[12, 14, 10751]</td>\n",
       "      <td>12444</td>\n",
       "      <td>en</td>\n",
       "      <td>Harry Potter and the Deathly Hallows: Part 1</td>\n",
       "      <td>33.533</td>\n",
       "      <td>2010-11-19</td>\n",
       "      <td>Harry Potter and the Deathly Hallows: Part 1</td>\n",
       "      <td>7.7</td>\n",
       "      <td>10788</td>\n",
       "    </tr>\n",
       "    <tr>\n",
       "      <th>1</th>\n",
       "      <td>[14, 12, 16, 10751]</td>\n",
       "      <td>10191</td>\n",
       "      <td>en</td>\n",
       "      <td>How to Train Your Dragon</td>\n",
       "      <td>28.734</td>\n",
       "      <td>2010-03-26</td>\n",
       "      <td>How to Train Your Dragon</td>\n",
       "      <td>7.7</td>\n",
       "      <td>7610</td>\n",
       "    </tr>\n",
       "    <tr>\n",
       "      <th>2</th>\n",
       "      <td>[12, 28, 878]</td>\n",
       "      <td>10138</td>\n",
       "      <td>en</td>\n",
       "      <td>Iron Man 2</td>\n",
       "      <td>28.515</td>\n",
       "      <td>2010-05-07</td>\n",
       "      <td>Iron Man 2</td>\n",
       "      <td>6.8</td>\n",
       "      <td>12368</td>\n",
       "    </tr>\n",
       "    <tr>\n",
       "      <th>3</th>\n",
       "      <td>[16, 35, 10751]</td>\n",
       "      <td>862</td>\n",
       "      <td>en</td>\n",
       "      <td>Toy Story</td>\n",
       "      <td>28.005</td>\n",
       "      <td>1995-11-22</td>\n",
       "      <td>Toy Story</td>\n",
       "      <td>7.9</td>\n",
       "      <td>10174</td>\n",
       "    </tr>\n",
       "    <tr>\n",
       "      <th>4</th>\n",
       "      <td>[28, 878, 12]</td>\n",
       "      <td>27205</td>\n",
       "      <td>en</td>\n",
       "      <td>Inception</td>\n",
       "      <td>27.920</td>\n",
       "      <td>2010-07-16</td>\n",
       "      <td>Inception</td>\n",
       "      <td>8.3</td>\n",
       "      <td>22186</td>\n",
       "    </tr>\n",
       "  </tbody>\n",
       "</table>\n",
       "</div>"
      ],
      "text/plain": [
       "             genre_ids     id original_language  \\\n",
       "0      [12, 14, 10751]  12444                en   \n",
       "1  [14, 12, 16, 10751]  10191                en   \n",
       "2        [12, 28, 878]  10138                en   \n",
       "3      [16, 35, 10751]    862                en   \n",
       "4        [28, 878, 12]  27205                en   \n",
       "\n",
       "                                 original_title  popularity release_date  \\\n",
       "0  Harry Potter and the Deathly Hallows: Part 1      33.533   2010-11-19   \n",
       "1                      How to Train Your Dragon      28.734   2010-03-26   \n",
       "2                                    Iron Man 2      28.515   2010-05-07   \n",
       "3                                     Toy Story      28.005   1995-11-22   \n",
       "4                                     Inception      27.920   2010-07-16   \n",
       "\n",
       "                                          title  vote_average  vote_count  \n",
       "0  Harry Potter and the Deathly Hallows: Part 1           7.7       10788  \n",
       "1                      How to Train Your Dragon           7.7        7610  \n",
       "2                                    Iron Man 2           6.8       12368  \n",
       "3                                     Toy Story           7.9       10174  \n",
       "4                                     Inception           8.3       22186  "
      ]
     },
     "execution_count": 3,
     "metadata": {},
     "output_type": "execute_result"
    }
   ],
   "source": [
    "tmdb_data.head()"
   ]
  },
  {
   "cell_type": "code",
   "execution_count": 4,
   "metadata": {
    "scrolled": true
   },
   "outputs": [
    {
     "data": {
      "text/html": [
       "<div>\n",
       "<style scoped>\n",
       "    .dataframe tbody tr th:only-of-type {\n",
       "        vertical-align: middle;\n",
       "    }\n",
       "\n",
       "    .dataframe tbody tr th {\n",
       "        vertical-align: top;\n",
       "    }\n",
       "\n",
       "    .dataframe thead th {\n",
       "        text-align: right;\n",
       "    }\n",
       "</style>\n",
       "<table border=\"1\" class=\"dataframe\">\n",
       "  <thead>\n",
       "    <tr style=\"text-align: right;\">\n",
       "      <th></th>\n",
       "      <th>title</th>\n",
       "      <th>studio</th>\n",
       "      <th>domestic_gross</th>\n",
       "      <th>foreign_gross</th>\n",
       "      <th>year</th>\n",
       "    </tr>\n",
       "  </thead>\n",
       "  <tbody>\n",
       "    <tr>\n",
       "      <th>0</th>\n",
       "      <td>Toy Story 3</td>\n",
       "      <td>BV</td>\n",
       "      <td>415000000.0</td>\n",
       "      <td>652000000</td>\n",
       "      <td>2010</td>\n",
       "    </tr>\n",
       "    <tr>\n",
       "      <th>1</th>\n",
       "      <td>Alice in Wonderland (2010)</td>\n",
       "      <td>BV</td>\n",
       "      <td>334200000.0</td>\n",
       "      <td>691300000</td>\n",
       "      <td>2010</td>\n",
       "    </tr>\n",
       "    <tr>\n",
       "      <th>2</th>\n",
       "      <td>Harry Potter and the Deathly Hallows Part 1</td>\n",
       "      <td>WB</td>\n",
       "      <td>296000000.0</td>\n",
       "      <td>664300000</td>\n",
       "      <td>2010</td>\n",
       "    </tr>\n",
       "    <tr>\n",
       "      <th>3</th>\n",
       "      <td>Inception</td>\n",
       "      <td>WB</td>\n",
       "      <td>292600000.0</td>\n",
       "      <td>535700000</td>\n",
       "      <td>2010</td>\n",
       "    </tr>\n",
       "    <tr>\n",
       "      <th>4</th>\n",
       "      <td>Shrek Forever After</td>\n",
       "      <td>P/DW</td>\n",
       "      <td>238700000.0</td>\n",
       "      <td>513900000</td>\n",
       "      <td>2010</td>\n",
       "    </tr>\n",
       "  </tbody>\n",
       "</table>\n",
       "</div>"
      ],
      "text/plain": [
       "                                         title studio  domestic_gross  \\\n",
       "0                                  Toy Story 3     BV     415000000.0   \n",
       "1                   Alice in Wonderland (2010)     BV     334200000.0   \n",
       "2  Harry Potter and the Deathly Hallows Part 1     WB     296000000.0   \n",
       "3                                    Inception     WB     292600000.0   \n",
       "4                          Shrek Forever After   P/DW     238700000.0   \n",
       "\n",
       "  foreign_gross  year  \n",
       "0     652000000  2010  \n",
       "1     691300000  2010  \n",
       "2     664300000  2010  \n",
       "3     535700000  2010  \n",
       "4     513900000  2010  "
      ]
     },
     "execution_count": 4,
     "metadata": {},
     "output_type": "execute_result"
    }
   ],
   "source": [
    "bom_data.head()"
   ]
  },
  {
   "cell_type": "markdown",
   "metadata": {},
   "source": [
    "## Step 2: Data Merging & Cleaning\n",
    "Examining the dataframes above, we can see that they all have a column named title. Let's merge the information on the\n",
    "title column. "
   ]
  },
  {
   "cell_type": "code",
   "execution_count": 5,
   "metadata": {
    "scrolled": true
   },
   "outputs": [
    {
     "data": {
      "text/html": [
       "<div>\n",
       "<style scoped>\n",
       "    .dataframe tbody tr th:only-of-type {\n",
       "        vertical-align: middle;\n",
       "    }\n",
       "\n",
       "    .dataframe tbody tr th {\n",
       "        vertical-align: top;\n",
       "    }\n",
       "\n",
       "    .dataframe thead th {\n",
       "        text-align: right;\n",
       "    }\n",
       "</style>\n",
       "<table border=\"1\" class=\"dataframe\">\n",
       "  <thead>\n",
       "    <tr style=\"text-align: right;\">\n",
       "      <th></th>\n",
       "      <th>title</th>\n",
       "      <th>year</th>\n",
       "      <th>studio</th>\n",
       "      <th>popularity</th>\n",
       "      <th>domestic_gross</th>\n",
       "      <th>foreign_gross</th>\n",
       "    </tr>\n",
       "  </thead>\n",
       "  <tbody>\n",
       "    <tr>\n",
       "      <th>2702</th>\n",
       "      <td>Last Letter</td>\n",
       "      <td>2018</td>\n",
       "      <td>CL</td>\n",
       "      <td>0.600</td>\n",
       "      <td>181000.0</td>\n",
       "      <td>NaN</td>\n",
       "    </tr>\n",
       "    <tr>\n",
       "      <th>2555</th>\n",
       "      <td>Mortal Engines</td>\n",
       "      <td>2018</td>\n",
       "      <td>Uni.</td>\n",
       "      <td>40.095</td>\n",
       "      <td>16000000.0</td>\n",
       "      <td>67700000</td>\n",
       "    </tr>\n",
       "    <tr>\n",
       "      <th>2566</th>\n",
       "      <td>Ready Player One</td>\n",
       "      <td>2018</td>\n",
       "      <td>WB</td>\n",
       "      <td>30.029</td>\n",
       "      <td>137700000.0</td>\n",
       "      <td>445200000</td>\n",
       "    </tr>\n",
       "    <tr>\n",
       "      <th>2565</th>\n",
       "      <td>Mary Poppins Returns</td>\n",
       "      <td>2018</td>\n",
       "      <td>BV</td>\n",
       "      <td>30.419</td>\n",
       "      <td>172000000.0</td>\n",
       "      <td>177600000</td>\n",
       "    </tr>\n",
       "    <tr>\n",
       "      <th>2564</th>\n",
       "      <td>The Meg</td>\n",
       "      <td>2018</td>\n",
       "      <td>WB</td>\n",
       "      <td>31.397</td>\n",
       "      <td>145400000.0</td>\n",
       "      <td>384800000</td>\n",
       "    </tr>\n",
       "  </tbody>\n",
       "</table>\n",
       "</div>"
      ],
      "text/plain": [
       "                     title  year studio  popularity  domestic_gross  \\\n",
       "2702           Last Letter  2018     CL       0.600        181000.0   \n",
       "2555        Mortal Engines  2018   Uni.      40.095      16000000.0   \n",
       "2566      Ready Player One  2018     WB      30.029     137700000.0   \n",
       "2565  Mary Poppins Returns  2018     BV      30.419     172000000.0   \n",
       "2564               The Meg  2018     WB      31.397     145400000.0   \n",
       "\n",
       "     foreign_gross  \n",
       "2702           NaN  \n",
       "2555      67700000  \n",
       "2566     445200000  \n",
       "2565     177600000  \n",
       "2564     384800000  "
      ]
     },
     "execution_count": 5,
     "metadata": {},
     "output_type": "execute_result"
    }
   ],
   "source": [
    "df_merge = pd.merge(tmdb_data, bom_data, on='title')\n",
    "\n",
    "#Create new dataframe with the columns we want \n",
    "new_df = df_merge[['title', 'year', 'studio', 'popularity', 'domestic_gross', 'foreign_gross']].sort_values(by='year', ascending=False)\n",
    "new_df.head()"
   ]
  },
  {
   "cell_type": "markdown",
   "metadata": {},
   "source": [
    "### Step 2.1: Data Cleaning\n",
    "Add foreign and domestic profits together to get an international picture of how much each movie has made. "
   ]
  },
  {
   "cell_type": "code",
   "execution_count": 6,
   "metadata": {
    "scrolled": true
   },
   "outputs": [
    {
     "data": {
      "text/html": [
       "<div>\n",
       "<style scoped>\n",
       "    .dataframe tbody tr th:only-of-type {\n",
       "        vertical-align: middle;\n",
       "    }\n",
       "\n",
       "    .dataframe tbody tr th {\n",
       "        vertical-align: top;\n",
       "    }\n",
       "\n",
       "    .dataframe thead th {\n",
       "        text-align: right;\n",
       "    }\n",
       "</style>\n",
       "<table border=\"1\" class=\"dataframe\">\n",
       "  <thead>\n",
       "    <tr style=\"text-align: right;\">\n",
       "      <th></th>\n",
       "      <th>title</th>\n",
       "      <th>year</th>\n",
       "      <th>studio</th>\n",
       "      <th>popularity</th>\n",
       "      <th>domestic_gross</th>\n",
       "      <th>foreign_gross</th>\n",
       "      <th>total_gross</th>\n",
       "    </tr>\n",
       "  </thead>\n",
       "  <tbody>\n",
       "    <tr>\n",
       "      <th>1622</th>\n",
       "      <td>Avengers: Age of Ultron</td>\n",
       "      <td>2015</td>\n",
       "      <td>BV</td>\n",
       "      <td>44.383</td>\n",
       "      <td>459000000.0</td>\n",
       "      <td>946400000.0</td>\n",
       "      <td>1.405400e+09</td>\n",
       "    </tr>\n",
       "    <tr>\n",
       "      <th>608</th>\n",
       "      <td>Black Panther</td>\n",
       "      <td>2018</td>\n",
       "      <td>BV</td>\n",
       "      <td>2.058</td>\n",
       "      <td>700100000.0</td>\n",
       "      <td>646900000.0</td>\n",
       "      <td>1.347000e+09</td>\n",
       "    </tr>\n",
       "    <tr>\n",
       "      <th>609</th>\n",
       "      <td>Black Panther</td>\n",
       "      <td>2018</td>\n",
       "      <td>BV</td>\n",
       "      <td>44.140</td>\n",
       "      <td>700100000.0</td>\n",
       "      <td>646900000.0</td>\n",
       "      <td>1.347000e+09</td>\n",
       "    </tr>\n",
       "    <tr>\n",
       "      <th>2320</th>\n",
       "      <td>Star Wars: The Last Jedi</td>\n",
       "      <td>2017</td>\n",
       "      <td>BV</td>\n",
       "      <td>34.293</td>\n",
       "      <td>620200000.0</td>\n",
       "      <td>712400000.0</td>\n",
       "      <td>1.332600e+09</td>\n",
       "    </tr>\n",
       "    <tr>\n",
       "      <th>2319</th>\n",
       "      <td>Star Wars: The Last Jedi</td>\n",
       "      <td>2017</td>\n",
       "      <td>BV</td>\n",
       "      <td>34.293</td>\n",
       "      <td>620200000.0</td>\n",
       "      <td>712400000.0</td>\n",
       "      <td>1.332600e+09</td>\n",
       "    </tr>\n",
       "    <tr>\n",
       "      <th>...</th>\n",
       "      <td>...</td>\n",
       "      <td>...</td>\n",
       "      <td>...</td>\n",
       "      <td>...</td>\n",
       "      <td>...</td>\n",
       "      <td>...</td>\n",
       "      <td>...</td>\n",
       "    </tr>\n",
       "    <tr>\n",
       "      <th>1132</th>\n",
       "      <td>Into the White</td>\n",
       "      <td>2013</td>\n",
       "      <td>Magn.</td>\n",
       "      <td>7.072</td>\n",
       "      <td>700.0</td>\n",
       "      <td>0.0</td>\n",
       "      <td>7.000000e+02</td>\n",
       "    </tr>\n",
       "    <tr>\n",
       "      <th>555</th>\n",
       "      <td>Death of a Superhero</td>\n",
       "      <td>2012</td>\n",
       "      <td>Trib.</td>\n",
       "      <td>5.158</td>\n",
       "      <td>600.0</td>\n",
       "      <td>0.0</td>\n",
       "      <td>6.000000e+02</td>\n",
       "    </tr>\n",
       "    <tr>\n",
       "      <th>2423</th>\n",
       "      <td>2:22</td>\n",
       "      <td>2017</td>\n",
       "      <td>Magn.</td>\n",
       "      <td>11.316</td>\n",
       "      <td>400.0</td>\n",
       "      <td>0.0</td>\n",
       "      <td>4.000000e+02</td>\n",
       "    </tr>\n",
       "    <tr>\n",
       "      <th>2251</th>\n",
       "      <td>Satanic</td>\n",
       "      <td>2016</td>\n",
       "      <td>Magn.</td>\n",
       "      <td>6.403</td>\n",
       "      <td>300.0</td>\n",
       "      <td>0.0</td>\n",
       "      <td>3.000000e+02</td>\n",
       "    </tr>\n",
       "    <tr>\n",
       "      <th>1152</th>\n",
       "      <td>Storage 24</td>\n",
       "      <td>2013</td>\n",
       "      <td>Magn.</td>\n",
       "      <td>6.441</td>\n",
       "      <td>100.0</td>\n",
       "      <td>0.0</td>\n",
       "      <td>1.000000e+02</td>\n",
       "    </tr>\n",
       "  </tbody>\n",
       "</table>\n",
       "<p>2470 rows × 7 columns</p>\n",
       "</div>"
      ],
      "text/plain": [
       "                         title  year studio  popularity  domestic_gross  \\\n",
       "1622   Avengers: Age of Ultron  2015     BV      44.383     459000000.0   \n",
       "608              Black Panther  2018     BV       2.058     700100000.0   \n",
       "609              Black Panther  2018     BV      44.140     700100000.0   \n",
       "2320  Star Wars: The Last Jedi  2017     BV      34.293     620200000.0   \n",
       "2319  Star Wars: The Last Jedi  2017     BV      34.293     620200000.0   \n",
       "...                        ...   ...    ...         ...             ...   \n",
       "1132            Into the White  2013  Magn.       7.072           700.0   \n",
       "555       Death of a Superhero  2012  Trib.       5.158           600.0   \n",
       "2423                      2:22  2017  Magn.      11.316           400.0   \n",
       "2251                   Satanic  2016  Magn.       6.403           300.0   \n",
       "1152                Storage 24  2013  Magn.       6.441           100.0   \n",
       "\n",
       "      foreign_gross   total_gross  \n",
       "1622    946400000.0  1.405400e+09  \n",
       "608     646900000.0  1.347000e+09  \n",
       "609     646900000.0  1.347000e+09  \n",
       "2320    712400000.0  1.332600e+09  \n",
       "2319    712400000.0  1.332600e+09  \n",
       "...             ...           ...  \n",
       "1132            0.0  7.000000e+02  \n",
       "555             0.0  6.000000e+02  \n",
       "2423            0.0  4.000000e+02  \n",
       "2251            0.0  3.000000e+02  \n",
       "1152            0.0  1.000000e+02  \n",
       "\n",
       "[2470 rows x 7 columns]"
      ]
     },
     "execution_count": 6,
     "metadata": {},
     "output_type": "execute_result"
    }
   ],
   "source": [
    "# Convert the domestic gross column to a numeric column so it can be added to the foreign gross column and fill all\n",
    "# NaN values. \n",
    "new_df['domestic_gross'] = pd.to_numeric(new_df['domestic_gross'])\n",
    "new_df['domestic_gross'] = new_df['domestic_gross'].fillna(0)\n",
    "\n",
    "# remove commas from foreign gross, convert to a numeric column, and remove all NaN values. \n",
    "new_df['foreign_gross'].replace(',','', regex=True, inplace=True)\n",
    "new_df['foreign_gross'] = pd.to_numeric(new_df['foreign_gross'])\n",
    "new_df['foreign_gross'] = new_df['foreign_gross'].fillna(0)\n",
    "\n",
    "# Create a new column adding the domestic and foreign gross values together to show each title's total gross \n",
    "new_df['total_gross'] = new_df['domestic_gross'] + new_df['foreign_gross']\n",
    "\n",
    "# Limit results to only the past 10 years (2011)\n",
    "new_df = new_df.loc[new_df['year'] >= 2011] \n",
    "\n",
    "# Order our new dataframe by total_gross to view the top grossing films of the last ten years. \n",
    "new_df = new_df.sort_values(by='total_gross', ascending=False)\n",
    "new_df"
   ]
  },
  {
   "cell_type": "markdown",
   "metadata": {},
   "source": [
    "### Note*\n",
    "Something to keep in mind is that Disney acquired 21st Century Fox in 2019. The data here from Fox shows movies that were made before 2019, so they are still considered to be made by Fox during the time this data was gathered. \n"
   ]
  },
  {
   "cell_type": "markdown",
   "metadata": {},
   "source": [
    "## Step 3: Data Exploration and Questions\n",
    "In this step I'll explore the data set and answer these questions: \n",
    "\n",
    "1. Which studios grossed the most money in the past 10 years?\n",
    "2. Which studios made the most movies in the past 10 years?\n",
    "3. Which studios made the most popular movies in the last 10 years?"
   ]
  },
  {
   "cell_type": "markdown",
   "metadata": {},
   "source": [
    "### Step 3.1: \n",
    "Which studios grossed the most money in the past 10 years?\n",
    "    "
   ]
  },
  {
   "cell_type": "code",
   "execution_count": 7,
   "metadata": {
    "scrolled": true
   },
   "outputs": [
    {
     "data": {
      "text/plain": [
       "{'BV': 46440514631.7,\n",
       " 'Fox': 30095166596.0,\n",
       " 'Uni.': 27890183191.4,\n",
       " 'WB': 24012620999.0,\n",
       " 'Sony': 18114886498.0,\n",
       " 'Par.': 16730279696.0,\n",
       " 'WB (NL)': 10508699999.0,\n",
       " 'LGF': 8426402400.0,\n",
       " 'LG/S': 4496523999.0,\n",
       " 'P/DW': 3420300000.0,\n",
       " 'Wein.': 3359832697.0,\n",
       " 'Focus': 2513440000.0,\n",
       " 'FoxS': 2404889300.0,\n",
       " 'SGem': 1993187000.0,\n",
       " 'WGUSA': 1828468400.0,\n",
       " 'STX': 1733600000.0,\n",
       " 'TriS': 1711315000.0,\n",
       " 'Rela.': 1679894000.0,\n",
       " 'ORF': 1421526999.0}"
      ]
     },
     "execution_count": 7,
     "metadata": {},
     "output_type": "execute_result"
    }
   ],
   "source": [
    "# Create a new data frame with the total_gross as the values and the columns as the studios/ \n",
    "studio_totals = new_df.pivot_table(index=new_df.index, values='total_gross', columns='studio')\n",
    "\n",
    "# Make a dictionary of all these studios and their total gross, then sort them \n",
    "# from greatest to least. \n",
    "# Dictionary of the dataframe from studio_totals\n",
    "dict_studio_totals = dict(studio_totals.sum(0))\n",
    "\n",
    "# Find the average of all of the studios total profits \n",
    "list_studio_values = list(studio_totals.sum(0))\n",
    "list_studio_index = list(studio_totals.sum(0).index)\n",
    "avg_list_studio_values = sum(list_studio_values) / len(list_studio_values)\n",
    "\n",
    "#I want my plot to show studios that had at or above the average total_gross of all films.  \n",
    "dict_studio_totals = dict((k, v) for k, v in dict_studio_totals.items() if v >= avg_list_studio_values) \n",
    "\n",
    "#Now I want to sort my values from greatest to least\n",
    "dict_studio_totals = {k: v for k, v in sorted(dict_studio_totals.items(), key=lambda item: item[1], reverse=True)}\n",
    "dict_studio_totals"
   ]
  },
  {
   "cell_type": "markdown",
   "metadata": {},
   "source": [
    "### Step 3.2: Visualization "
   ]
  },
  {
   "cell_type": "code",
   "execution_count": 8,
   "metadata": {
    "scrolled": false
   },
   "outputs": [
    {
     "data": {
      "text/plain": [
       "Text(0, 0.5, 'Gross')"
      ]
     },
     "execution_count": 8,
     "metadata": {},
     "output_type": "execute_result"
    },
    {
     "data": {
      "image/png": "[encoded data removed]",
      "text/plain": [
       "<Figure size 1080x432 with 1 Axes>"
      ]
     },
     "metadata": {
      "needs_background": "light"
     },
     "output_type": "display_data"
    }
   ],
   "source": [
    "#I'll get my x axis from the keys in the dictionary and my height from the values in the dictionary above. \n",
    "x = list(dict_studio_totals.keys())\n",
    "height = list(dict_studio_totals.values())\n",
    "\n",
    "fig, ax = plt.subplots(figsize=(15,6))\n",
    "\n",
    "ax.bar(x, height, color='#af87c4')\n",
    "ax.get_yaxis().set_major_formatter(\n",
    "    matplotlib.ticker.FuncFormatter(lambda x, p: format(int(x), ',')))\n",
    "ax.set_title('Highest Grossing Studios')\n",
    "ax.set_xlabel('Studios')\n",
    "ax.set_ylabel('Gross')"
   ]
  },
  {
   "cell_type": "markdown",
   "metadata": {},
   "source": [
    "### Note* \n",
    "Disney is represented as BV. Disney appears to gross the most money based on this data. "
   ]
  },
  {
   "cell_type": "markdown",
   "metadata": {},
   "source": [
    "### Step 3.3:\n",
    "Which studios made the most movies in the last 10 years?"
   ]
  },
  {
   "cell_type": "code",
   "execution_count": 9,
   "metadata": {
    "scrolled": true
   },
   "outputs": [
    {
     "data": {
      "text/plain": [
       "Text(0, 0.5, 'Number of Movies')"
      ]
     },
     "execution_count": 9,
     "metadata": {},
     "output_type": "execute_result"
    },
    {
     "data": {
      "image/png": "[encoded data removed]",
      "text/plain": [
       "<Figure size 936x360 with 1 Axes>"
      ]
     },
     "metadata": {
      "needs_background": "light"
     },
     "output_type": "display_data"
    }
   ],
   "source": [
    "# Show the value counts for each studio that gives us the number of movies each studio made. \n",
    "studio_counts = new_df['studio'].value_counts()\n",
    "x = list(studio_counts.index)\n",
    "y = list(studio_counts.values)\n",
    "\n",
    "#Let's only show studios that made 50 or more movies. \n",
    "height = []\n",
    "for i in y: \n",
    "    if i >= 50: \n",
    "        height.append(i)\n",
    "\n",
    "fig, ax = plt.subplots(figsize=(13,5))\n",
    "\n",
    "ax.bar(x[0:15], height, color='#af87c4')\n",
    "\n",
    "ax.set_title('Studios Who Made the Most Movies')\n",
    "ax.set_xlabel('Studios')\n",
    "ax.set_ylabel('Number of Movies')"
   ]
  },
  {
   "cell_type": "markdown",
   "metadata": {},
   "source": [
    "### Note*\n",
    "It appears that just because the studio makes a lot of movies, doesn't mean they gross the most money. Even though Disney made the most money, they didn't make the highest quantity of movies."
   ]
  },
  {
   "cell_type": "markdown",
   "metadata": {},
   "source": [
    "### Step 3.4: \n",
    "Which studios made the most popular movies in the last 10 years?"
   ]
  },
  {
   "cell_type": "code",
   "execution_count": 10,
   "metadata": {
    "scrolled": false
   },
   "outputs": [
    {
     "data": {
      "text/plain": [
       "{'WB': 74.477,\n",
       " 'IFC': 56.138000000000005,\n",
       " 'BV': 55.827999999999996,\n",
       " 'Fox': 51.71600000000001,\n",
       " 'LGF': 25.131,\n",
       " 'Wein.': 15.641,\n",
       " 'BG': 15.521999999999998,\n",
       " 'SPC': 10.952,\n",
       " 'BST': 9.486,\n",
       " 'STX': 8.574,\n",
       " 'Anch.': 8.322000000000001,\n",
       " 'WGUSA': 8.16}"
      ]
     },
     "execution_count": 10,
     "metadata": {},
     "output_type": "execute_result"
    }
   ],
   "source": [
    "# Sort our dataframe to see the most popular movies\n",
    "popularity_df = new_df.sort_values(by='popularity', ascending=False)\n",
    "\n",
    "# Create a dataframe that shows the top 50 most popular movies in the last 10 years \n",
    "popularity_df = popularity_df[['studio', 'title', 'popularity']]\n",
    "top_pop = popularity_df.pivot_table(index=new_df.index, values='popularity', columns='studio').head(50)\n",
    "\n",
    "# Create a dictionary showing the popularity for each studio\n",
    "dict_top_pop = dict(top_pop.sum(0))\n",
    "\n",
    "# Now limit those results to see studios that had higher popularity than 8. \n",
    "dict_top_pop = dict((k, v) for k, v in dict_top_pop.items() if v > 8) \n",
    "\n",
    "# Sort them from greatest to least \n",
    "dict_top_pop = {k: v for k, v in sorted(dict_top_pop.items(), key=lambda item: item[1], reverse=True)}\n",
    "dict_top_pop"
   ]
  },
  {
   "cell_type": "markdown",
   "metadata": {},
   "source": [
    "### Step 3.5: Visualization "
   ]
  },
  {
   "cell_type": "code",
   "execution_count": 11,
   "metadata": {},
   "outputs": [
    {
     "data": {
      "text/plain": [
       "Text(0, 0.5, 'Popularity')"
      ]
     },
     "execution_count": 11,
     "metadata": {},
     "output_type": "execute_result"
    },
    {
     "data": {
      "image/png": "[encoded data removed]",
      "text/plain": [
       "<Figure size 1080x432 with 1 Axes>"
      ]
     },
     "metadata": {
      "needs_background": "light"
     },
     "output_type": "display_data"
    }
   ],
   "source": [
    "x = list(dict_top_pop.keys())\n",
    "height = list(dict_top_pop.values())\n",
    "\n",
    "fig, ax = plt.subplots(figsize=(15,6))\n",
    "\n",
    "ax.bar(x, height, color='#af87c4')\n",
    "\n",
    "ax.set_title('Studios with the Most Popular Movies')\n",
    "ax.set_xlabel('Studios')\n",
    "ax.set_ylabel('Popularity')"
   ]
  },
  {
   "cell_type": "markdown",
   "metadata": {},
   "source": [
    "## Step 4: Merging New Data\n",
    "I'll bring in new data that contains the production budgets so I can calculate net profits and ROI%. I'll clean this data up a bit, as well. "
   ]
  },
  {
   "cell_type": "code",
   "execution_count": 12,
   "metadata": {},
   "outputs": [
    {
     "data": {
      "text/html": [
       "<div>\n",
       "<style scoped>\n",
       "    .dataframe tbody tr th:only-of-type {\n",
       "        vertical-align: middle;\n",
       "    }\n",
       "\n",
       "    .dataframe tbody tr th {\n",
       "        vertical-align: top;\n",
       "    }\n",
       "\n",
       "    .dataframe thead th {\n",
       "        text-align: right;\n",
       "    }\n",
       "</style>\n",
       "<table border=\"1\" class=\"dataframe\">\n",
       "  <thead>\n",
       "    <tr style=\"text-align: right;\">\n",
       "      <th></th>\n",
       "      <th>title</th>\n",
       "      <th>production_budget</th>\n",
       "    </tr>\n",
       "  </thead>\n",
       "  <tbody>\n",
       "    <tr>\n",
       "      <th>0</th>\n",
       "      <td>Avatar</td>\n",
       "      <td>425000000</td>\n",
       "    </tr>\n",
       "    <tr>\n",
       "      <th>1</th>\n",
       "      <td>Pirates of the Caribbean: On Stranger Tides</td>\n",
       "      <td>410600000</td>\n",
       "    </tr>\n",
       "    <tr>\n",
       "      <th>2</th>\n",
       "      <td>Dark Phoenix</td>\n",
       "      <td>350000000</td>\n",
       "    </tr>\n",
       "    <tr>\n",
       "      <th>3</th>\n",
       "      <td>Avengers: Age of Ultron</td>\n",
       "      <td>330600000</td>\n",
       "    </tr>\n",
       "    <tr>\n",
       "      <th>4</th>\n",
       "      <td>Star Wars Ep. VIII: The Last Jedi</td>\n",
       "      <td>317000000</td>\n",
       "    </tr>\n",
       "    <tr>\n",
       "      <th>...</th>\n",
       "      <td>...</td>\n",
       "      <td>...</td>\n",
       "    </tr>\n",
       "    <tr>\n",
       "      <th>5777</th>\n",
       "      <td>Red 11</td>\n",
       "      <td>7000</td>\n",
       "    </tr>\n",
       "    <tr>\n",
       "      <th>5778</th>\n",
       "      <td>Following</td>\n",
       "      <td>6000</td>\n",
       "    </tr>\n",
       "    <tr>\n",
       "      <th>5779</th>\n",
       "      <td>Return to the Land of Wonders</td>\n",
       "      <td>5000</td>\n",
       "    </tr>\n",
       "    <tr>\n",
       "      <th>5780</th>\n",
       "      <td>A Plague So Pleasant</td>\n",
       "      <td>1400</td>\n",
       "    </tr>\n",
       "    <tr>\n",
       "      <th>5781</th>\n",
       "      <td>My Date With Drew</td>\n",
       "      <td>1100</td>\n",
       "    </tr>\n",
       "  </tbody>\n",
       "</table>\n",
       "<p>5782 rows × 2 columns</p>\n",
       "</div>"
      ],
      "text/plain": [
       "                                            title production_budget\n",
       "0                                          Avatar         425000000\n",
       "1     Pirates of the Caribbean: On Stranger Tides         410600000\n",
       "2                                    Dark Phoenix         350000000\n",
       "3                         Avengers: Age of Ultron         330600000\n",
       "4               Star Wars Ep. VIII: The Last Jedi         317000000\n",
       "...                                           ...               ...\n",
       "5777                                       Red 11              7000\n",
       "5778                                    Following              6000\n",
       "5779                Return to the Land of Wonders              5000\n",
       "5780                         A Plague So Pleasant              1400\n",
       "5781                            My Date With Drew              1100\n",
       "\n",
       "[5782 rows x 2 columns]"
      ]
     },
     "execution_count": 12,
     "metadata": {},
     "output_type": "execute_result"
    }
   ],
   "source": [
    "#Read in our new data set\n",
    "tn_data = pd.read_csv('tn.movie_budgets.csv')\n",
    "tn_data = tn_data[['movie', 'production_budget']]\n",
    "\n",
    "#Clean up this data \n",
    "#remove the commas from the data so we can convert this column to a numeric column to calculate our net profit.\n",
    "df2['production_budget'].replace(',','', regex=True, inplace=True)\n",
    "#remove the dollar signs.\n",
    "df2['production_budget'].replace({'\\$':''}, regex = True, inplace=True)\n",
    "\n",
    "#rename 'movie' to 'title' for an easier merge since the other data shows 'title' for the movie names\n",
    "tn_data = tn_data.rename(columns={\"movie\": \"title\"})\n",
    "tn_data"
   ]
  },
  {
   "cell_type": "markdown",
   "metadata": {},
   "source": [
    "### Step 4.1 Merge the new data"
   ]
  },
  {
   "cell_type": "code",
   "execution_count": 13,
   "metadata": {},
   "outputs": [
    {
     "data": {
      "text/html": [
       "<div>\n",
       "<style scoped>\n",
       "    .dataframe tbody tr th:only-of-type {\n",
       "        vertical-align: middle;\n",
       "    }\n",
       "\n",
       "    .dataframe tbody tr th {\n",
       "        vertical-align: top;\n",
       "    }\n",
       "\n",
       "    .dataframe thead th {\n",
       "        text-align: right;\n",
       "    }\n",
       "</style>\n",
       "<table border=\"1\" class=\"dataframe\">\n",
       "  <thead>\n",
       "    <tr style=\"text-align: right;\">\n",
       "      <th></th>\n",
       "      <th>title</th>\n",
       "      <th>studio</th>\n",
       "      <th>year</th>\n",
       "      <th>total_gross</th>\n",
       "      <th>production_budget</th>\n",
       "      <th>net_profit</th>\n",
       "      <th>ROI%</th>\n",
       "    </tr>\n",
       "  </thead>\n",
       "  <tbody>\n",
       "    <tr>\n",
       "      <th>1</th>\n",
       "      <td>Black Panther</td>\n",
       "      <td>BV</td>\n",
       "      <td>2018</td>\n",
       "      <td>1.347000e+09</td>\n",
       "      <td>200000000</td>\n",
       "      <td>1.147000e+09</td>\n",
       "      <td>573.500000</td>\n",
       "    </tr>\n",
       "    <tr>\n",
       "      <th>2</th>\n",
       "      <td>Black Panther</td>\n",
       "      <td>BV</td>\n",
       "      <td>2018</td>\n",
       "      <td>1.347000e+09</td>\n",
       "      <td>200000000</td>\n",
       "      <td>1.147000e+09</td>\n",
       "      <td>573.500000</td>\n",
       "    </tr>\n",
       "    <tr>\n",
       "      <th>3</th>\n",
       "      <td>Jurassic World: Fallen Kingdom</td>\n",
       "      <td>Uni.</td>\n",
       "      <td>2018</td>\n",
       "      <td>1.309500e+09</td>\n",
       "      <td>170000000</td>\n",
       "      <td>1.139500e+09</td>\n",
       "      <td>670.294118</td>\n",
       "    </tr>\n",
       "    <tr>\n",
       "      <th>4</th>\n",
       "      <td>Frozen</td>\n",
       "      <td>BV</td>\n",
       "      <td>2013</td>\n",
       "      <td>1.276400e+09</td>\n",
       "      <td>150000000</td>\n",
       "      <td>1.126400e+09</td>\n",
       "      <td>750.933333</td>\n",
       "    </tr>\n",
       "    <tr>\n",
       "      <th>5</th>\n",
       "      <td>Frozen</td>\n",
       "      <td>BV</td>\n",
       "      <td>2013</td>\n",
       "      <td>1.276400e+09</td>\n",
       "      <td>150000000</td>\n",
       "      <td>1.126400e+09</td>\n",
       "      <td>750.933333</td>\n",
       "    </tr>\n",
       "    <tr>\n",
       "      <th>...</th>\n",
       "      <td>...</td>\n",
       "      <td>...</td>\n",
       "      <td>...</td>\n",
       "      <td>...</td>\n",
       "      <td>...</td>\n",
       "      <td>...</td>\n",
       "      <td>...</td>\n",
       "    </tr>\n",
       "    <tr>\n",
       "      <th>565</th>\n",
       "      <td>R.I.P.D.</td>\n",
       "      <td>Uni.</td>\n",
       "      <td>2013</td>\n",
       "      <td>7.830000e+07</td>\n",
       "      <td>130000000</td>\n",
       "      <td>-5.170000e+07</td>\n",
       "      <td>-39.769231</td>\n",
       "    </tr>\n",
       "    <tr>\n",
       "      <th>624</th>\n",
       "      <td>Monster Trucks</td>\n",
       "      <td>Par.</td>\n",
       "      <td>2017</td>\n",
       "      <td>6.450000e+07</td>\n",
       "      <td>125000000</td>\n",
       "      <td>-6.050000e+07</td>\n",
       "      <td>-48.400000</td>\n",
       "    </tr>\n",
       "    <tr>\n",
       "      <th>1208</th>\n",
       "      <td>Evolution</td>\n",
       "      <td>IFC</td>\n",
       "      <td>2016</td>\n",
       "      <td>2.480000e+04</td>\n",
       "      <td>80000000</td>\n",
       "      <td>-7.997520e+07</td>\n",
       "      <td>-99.969000</td>\n",
       "    </tr>\n",
       "    <tr>\n",
       "      <th>1209</th>\n",
       "      <td>Evolution</td>\n",
       "      <td>IFC</td>\n",
       "      <td>2016</td>\n",
       "      <td>2.480000e+04</td>\n",
       "      <td>80000000</td>\n",
       "      <td>-7.997520e+07</td>\n",
       "      <td>-99.969000</td>\n",
       "    </tr>\n",
       "    <tr>\n",
       "      <th>768</th>\n",
       "      <td>Mars Needs Moms</td>\n",
       "      <td>BV</td>\n",
       "      <td>2011</td>\n",
       "      <td>3.900000e+07</td>\n",
       "      <td>150000000</td>\n",
       "      <td>-1.110000e+08</td>\n",
       "      <td>-74.000000</td>\n",
       "    </tr>\n",
       "  </tbody>\n",
       "</table>\n",
       "<p>1224 rows × 7 columns</p>\n",
       "</div>"
      ],
      "text/plain": [
       "                               title studio  year   total_gross  \\\n",
       "1                      Black Panther     BV  2018  1.347000e+09   \n",
       "2                      Black Panther     BV  2018  1.347000e+09   \n",
       "3     Jurassic World: Fallen Kingdom   Uni.  2018  1.309500e+09   \n",
       "4                             Frozen     BV  2013  1.276400e+09   \n",
       "5                             Frozen     BV  2013  1.276400e+09   \n",
       "...                              ...    ...   ...           ...   \n",
       "565                         R.I.P.D.   Uni.  2013  7.830000e+07   \n",
       "624                   Monster Trucks   Par.  2017  6.450000e+07   \n",
       "1208                       Evolution    IFC  2016  2.480000e+04   \n",
       "1209                       Evolution    IFC  2016  2.480000e+04   \n",
       "768                  Mars Needs Moms     BV  2011  3.900000e+07   \n",
       "\n",
       "      production_budget    net_profit        ROI%  \n",
       "1             200000000  1.147000e+09  573.500000  \n",
       "2             200000000  1.147000e+09  573.500000  \n",
       "3             170000000  1.139500e+09  670.294118  \n",
       "4             150000000  1.126400e+09  750.933333  \n",
       "5             150000000  1.126400e+09  750.933333  \n",
       "...                 ...           ...         ...  \n",
       "565           130000000 -5.170000e+07  -39.769231  \n",
       "624           125000000 -6.050000e+07  -48.400000  \n",
       "1208           80000000 -7.997520e+07  -99.969000  \n",
       "1209           80000000 -7.997520e+07  -99.969000  \n",
       "768           150000000 -1.110000e+08  -74.000000  \n",
       "\n",
       "[1224 rows x 7 columns]"
      ]
     },
     "execution_count": 13,
     "metadata": {},
     "output_type": "execute_result"
    }
   ],
   "source": [
    "# Merge the new data set on the shared 'title' column. \n",
    "df_merge = pd.merge(new_df, tn_data, on='title') \n",
    "df_merge = df_merge[['title', 'studio', 'year', 'total_gross', 'production_budget']]\n",
    "df_merge['production_budget'] = pd.to_numeric(df_merge['production_budget'])\n",
    "\n",
    "# Create a new column for net profit and ROI%\n",
    "df_merge['net_profit'] = df_merge['total_gross'] - df_merge['production_budget']\n",
    "net_profit_df = df_merge\n",
    "\n",
    "# ROI = 100(net profit / budget)\n",
    "net_profit_df['ROI%'] = 100 * (net_profit_df['net_profit'] / net_profit_df['production_budget'])\n",
    "\n",
    "#Sort them to see the studios with the highest net profit. \n",
    "net_profit_df.sort_values(by='net_profit', ascending=False, inplace=True)\n",
    "net_profit_df"
   ]
  },
  {
   "cell_type": "markdown",
   "metadata": {},
   "source": [
    "### Step: 4.2 \n",
    "What studios had the highest net profit?\n"
   ]
  },
  {
   "cell_type": "code",
   "execution_count": 14,
   "metadata": {},
   "outputs": [
    {
     "data": {
      "text/plain": [
       "{'BV': 28799801369.5,\n",
       " 'Fox': 20495033596.0,\n",
       " 'Uni.': 19510861191.4,\n",
       " 'WB': 14879520998.0,\n",
       " 'Sony': 12798499998.0,\n",
       " 'Par.': 8942766996.0,\n",
       " 'WB (NL)': 7066199999.0,\n",
       " 'LGF': 5392518000.0,\n",
       " 'P/DW': 2615300000.0,\n",
       " 'LG/S': 2492493999.0,\n",
       " 'Wein.': 2077783397.0}"
      ]
     },
     "execution_count": 14,
     "metadata": {},
     "output_type": "execute_result"
    }
   ],
   "source": [
    "#Created a new table showing the columns as studios and values as their net profits. \n",
    "studio_profits = net_profit_df.pivot_table(index=df_merge.index, values='net_profit', columns='studio')\n",
    "\n",
    "#Find the average net profit for all the studios. I want to calculate the average to see the studios that made at or\n",
    "#above this amount. \n",
    "list_studio_profits = list(studio_profits.sum(0))\n",
    "list_studio_index = list(studio_profits.sum(0).index)\n",
    "avg_list_studio_profits = sum(list_studio_profits) / len(list_studio_profits)\n",
    "avg_list_studio_profits\n",
    "\n",
    "#Make a dictionary of the studio_profits dataframe to get the keys as the studio name and their values as net profit.\n",
    "a = dict(studio_profits.sum(0))\n",
    "net_profit_keys = list(a.keys())\n",
    "net_profit_values = list(a.values())\n",
    "\n",
    "#I want to show the studios that had at or above average net profit.  \n",
    "b = dict((k, v) for k, v in a.items() if v >= avg_list_studio_profits) \n",
    "\n",
    "#Now I want to sort my values from greatest to least and show studios with the highest net profits. \n",
    "c = {k: v for k, v in sorted(b.items(), key=lambda item: item[1], reverse=True)}\n",
    "c"
   ]
  },
  {
   "cell_type": "markdown",
   "metadata": {},
   "source": [
    "### 4.3 Visualization "
   ]
  },
  {
   "cell_type": "code",
   "execution_count": 15,
   "metadata": {
    "scrolled": true
   },
   "outputs": [
    {
     "data": {
      "text/plain": [
       "Text(0, 0.5, 'Net Profits')"
      ]
     },
     "execution_count": 15,
     "metadata": {},
     "output_type": "execute_result"
    },
    {
     "data": {
      "image/png": "[encoded data removed]",
      "text/plain": [
       "<Figure size 1080x432 with 1 Axes>"
      ]
     },
     "metadata": {
      "needs_background": "light"
     },
     "output_type": "display_data"
    }
   ],
   "source": [
    "c_keys = list(c.keys())\n",
    "c_values = list(c.values())\n",
    "\n",
    "fig, ax = plt.subplots(figsize=(15,6))\n",
    "\n",
    "ax.bar(x=c_keys, height=c_values, color='#af87c4')\n",
    "ax.get_yaxis().set_major_formatter(\n",
    "    matplotlib.ticker.FuncFormatter(lambda x, p: format(int(x), ',')))\n",
    "ax.set_title('Studios with the Highest Net Profits')\n",
    "ax.set_xlabel('Studios')\n",
    "ax.set_ylabel('Net Profits')"
   ]
  },
  {
   "cell_type": "markdown",
   "metadata": {},
   "source": [
    "The visualizations for net profit show Disney still has the highest profits. "
   ]
  },
  {
   "cell_type": "markdown",
   "metadata": {},
   "source": [
    "### Step 4.3\n",
    "### Let's look at ROI%."
   ]
  },
  {
   "cell_type": "code",
   "execution_count": 16,
   "metadata": {
    "scrolled": true
   },
   "outputs": [
    {
     "data": {
      "text/plain": [
       "{'Uni.': 102350.77846329947,\n",
       " 'WB (NL)': 64790.53066726985,\n",
       " 'Par.': 36643.83359765203,\n",
       " 'Fox': 27933.836389553227,\n",
       " 'WB': 26675.473175505667,\n",
       " 'LG/S': 23352.14995755767,\n",
       " 'BV': 18953.12201122903,\n",
       " 'Sony': 17554.63871073789,\n",
       " 'LGF': 16668.087357812623,\n",
       " 'FoxS': 16342.791022944726,\n",
       " 'Wein.': 14395.870932086902,\n",
       " 'Focus': 8198.029771815489,\n",
       " 'TriS': 7878.192455828485,\n",
       " 'A24': 7324.1393665158375,\n",
       " 'FD': 6934.615873015872,\n",
       " 'ORF': 6605.56696154593,\n",
       " 'SPC': 6340.5804291464465}"
      ]
     },
     "execution_count": 16,
     "metadata": {},
     "output_type": "execute_result"
    }
   ],
   "source": [
    "# Create a dataframe with each studio's ROI% as a value and the studios as columns \n",
    "studio_roi_df = net_profit_df.pivot_table(index=df_merge.index, values='ROI%', columns='studio')\n",
    "\n",
    "# Find the average ROI% so we can look at studios with above average ROI%\n",
    "list_studio_roi = list(studio_roi_df.sum(0))\n",
    "list_roi_index = list(studio_roi_df.sum(0).index)\n",
    "avg_list_studio_roi = sum(list_studio_roi) / len(list_studio_roi)\n",
    "avg_list_studio_roi\n",
    "\n",
    "# Create a dictionary showing each studio's ROI% \n",
    "a = dict(studio_roi_df.sum(0))\n",
    "studio_roi_df_keys = list(a.keys())\n",
    "studio_roi_df_values = list(a.values())\n",
    "\n",
    "#I want to show the studios that had at or above average ROI%.  \n",
    "b = dict((k, v) for k, v in a.items() if v >= avg_list_studio_roi) \n",
    "\n",
    "#Now I want to sort my values from greatest to least and show studios with the highest ROI%. \n",
    "c = {k: v for k, v in sorted(b.items(), key=lambda item: item[1], reverse=True)}\n",
    "c"
   ]
  },
  {
   "cell_type": "code",
   "execution_count": 17,
   "metadata": {
    "scrolled": true
   },
   "outputs": [
    {
     "data": {
      "text/plain": [
       "Text(0, 0.5, 'ROI Percentages')"
      ]
     },
     "execution_count": 17,
     "metadata": {},
     "output_type": "execute_result"
    },
    {
     "data": {
      "image/png": "[encoded data removed]",
      "text/plain": [
       "<Figure size 1080x432 with 1 Axes>"
      ]
     },
     "metadata": {
      "needs_background": "light"
     },
     "output_type": "display_data"
    }
   ],
   "source": [
    "#Visualization of each studio's ROI%\n",
    "fig, ax = plt.subplots(figsize=(15,6))\n",
    "\n",
    "x = list(c.keys())\n",
    "height = list(c.values())\n",
    "\n",
    "ax.bar(x, height, color='#af87c4')\n",
    "\n",
    "ax.set_title('Studios with the Highest ROI%')\n",
    "ax.set_xlabel('Studios')\n",
    "ax.set_ylabel('ROI Percentages')"
   ]
  },
  {
   "cell_type": "markdown",
   "metadata": {},
   "source": [
    "## Step 5: Exploring the Stats\n",
    "I'll examine the the average ROI% and average net profits that each studio made for each movie. "
   ]
  },
  {
   "cell_type": "code",
   "execution_count": 18,
   "metadata": {},
   "outputs": [
    {
     "data": {
      "text/plain": [
       "Text(0, 0.5, 'Average ROI%')"
      ]
     },
     "execution_count": 18,
     "metadata": {},
     "output_type": "execute_result"
    },
    {
     "data": {
      "image/png": "[encoded data removed]",
      "text/plain": [
       "<Figure size 1080x432 with 1 Axes>"
      ]
     },
     "metadata": {
      "needs_background": "light"
     },
     "output_type": "display_data"
    }
   ],
   "source": [
    "# Create a dataframe of the stats for studios that had the highest average ROI%\n",
    "roi_stats = studio_roi_df.describe()[1:4:5]\n",
    "avg_roi = roi_stats[['Uni.', 'WB (NL)', 'Par.', 'Fox', 'WB', 'LG/S', 'BV', 'Sony', 'LGF', 'FoxS']]\n",
    "\n",
    "# Create a dictionary where the keys are the studios and the means are the values. \n",
    "a = dict(avg_roi.sum(0))\n",
    "\n",
    "# Sort them from greatest to least\n",
    "a = {k: v for k, v in sorted(a.items(), key=lambda item: item[1], reverse=True)}\n",
    "\n",
    "# Visualizations for average ROI% of each studio.\n",
    "x = list(a.keys())\n",
    "height = list(a.values())\n",
    "\n",
    "fig, ax = plt.subplots(figsize=(15,6))\n",
    "\n",
    "ax.bar(x, height, color='#af87c4')\n",
    "ax.get_yaxis().set_major_formatter(\n",
    "    matplotlib.ticker.FuncFormatter(lambda x, p: format(int(x), ',')))\n",
    "ax.set_title('Studios with the Highest Average ROI%')\n",
    "ax.set_xlabel('Studios')\n",
    "ax.set_ylabel('Average ROI%')"
   ]
  },
  {
   "cell_type": "code",
   "execution_count": 19,
   "metadata": {},
   "outputs": [
    {
     "data": {
      "text/plain": [
       "{'BV': 374023394.40909094,\n",
       " 'Sony': 188213235.2647059,\n",
       " 'Fox': 184639942.3063063,\n",
       " 'WB (NL)': 181184615.35897437,\n",
       " 'WB': 151831846.91836736,\n",
       " 'Uni.': 148937871.69007635,\n",
       " 'Par.': 120848202.64864865,\n",
       " 'LGF': 96294964.28571428,\n",
       " 'LG/S': 73308647.02941176,\n",
       " 'Wein.': 47222349.93181818}"
      ]
     },
     "execution_count": 19,
     "metadata": {},
     "output_type": "execute_result"
    },
    {
     "data": {
      "image/png": "[encoded data removed]",
      "text/plain": [
       "<Figure size 1080x432 with 1 Axes>"
      ]
     },
     "metadata": {
      "needs_background": "light"
     },
     "output_type": "display_data"
    }
   ],
   "source": [
    "# Create a dataframe of the stats for studios that had the highest net profits. \n",
    "studio_profit_stats = studio_profits.describe()\n",
    "stats = studio_profit_stats[['BV', 'Fox', 'Uni.', 'WB', 'Sony', 'Par.', 'WB (NL)', 'LGF', 'LG/S', 'Wein.']]\n",
    "\n",
    "# Show the average net profits for each studio in our stats dataframe \n",
    "mean_np_studios = stats[1:4:5]\n",
    "\n",
    "# Create a dictionary where the keys are the studios and the means are the values. \n",
    "d = dict(mean_np_studios.sum(0))\n",
    "\n",
    "# Sort them from greatest to least\n",
    "d = {k: v for k, v in sorted(d.items(), key=lambda item: item[1], reverse=True)}\n",
    "\n",
    "# Visualizations for average net profits of each studio.\n",
    "x = list(d.keys())\n",
    "height = list(d.values())\n",
    "\n",
    "fig, ax = plt.subplots(figsize=(15,6))\n",
    "\n",
    "ax.bar(x, height, color='#af87c4')\n",
    "ax.get_yaxis().set_major_formatter(\n",
    "    matplotlib.ticker.FuncFormatter(lambda x, p: format(int(x), ',')))\n",
    "ax.set_title('Studios with the Highest Average Net Profits')\n",
    "ax.set_xlabel('Studios')\n",
    "ax.set_ylabel('Profits in Millions')\n",
    "d"
   ]
  },
  {
   "cell_type": "markdown",
   "metadata": {},
   "source": [
    "## Step 6: Recommendations\n",
    "\n",
    "It appears Sony Pictures has the second highest net profits on average for each film they've made. I'd recommend Microsoft make a bid on Sony Pictures for their new movie studio. Several of the studios sitting at the top of the data alongside Sony Pictures have already been acquired or have merged with larger companies in the last few years. I wouldn't recommend buying Disney because Disney is currently valued over 330 billion dollars according to Yahoo Finance statistics on their market cap (https://finance.yahoo.com/quote/DIS/key-statistics?p=DIS). I wouldn't recommend 21st Century Fox, because Disney acquired them in 2019 for 71.3 billion. I wouldn't recommend Warner Brothers because they merged with Discovery as of this year. I wouldn't recommend Universal because they're owned by Comcast. I wouldn't recommend MGM Studios because they were recently purchased by Amazon for $8.45 billion in May of this year. This leaves Sony Pictures as the dangling cheese for potentially several companies. The data here shows their films are profitable and their average net profits are second to Disney based on this data. I'm also not the first to come to this conclusion. Digging deeper into the questions from this data, I found a Vox article from 2017 with a similar suggestion that \"Sony Pictures would make an interesting buy for a tech giant\": https://www.vox.com/2017/1/17/14273598/sony-pictures-buy-amazon-alphabet-facebook-apple. \n",
    "\n",
    "According to this article, it is believed by Vox that Sony Pictures may have been worth about $30 billion in 2017. That would be a cheaper buy than what Disney paid for 21st Century Fox. \n",
    "\n",
    "Also, Sony Pictures owns the film rights for the Spider-Man movies. The rights for the Spider Man movies are so valuable, Sony won't just give them up. Disney had to write up licensing contracts with Sony Pictures to be able to feature Spider Man in the Marvel Universe. Spider-Man films are some of Sony Pictures highest grossing, collectively grossing over 6 billion. If Microsoft can acquire Sony Pictures, Microsoft could have those rights. More information on this can be found here: https://en.wikipedia.org/wiki/Spider-Man_in_film. "
   ]
  }
 ],
 "metadata": {
  "kernelspec": {
   "display_name": "Python 3",
   "language": "python",
   "name": "python3"
  },
  "language_info": {
   "codemirror_mode": {
    "name": "ipython",
    "version": 3
   },
   "file_extension": ".py",
   "mimetype": "text/x-python",
   "name": "python",
   "nbconvert_exporter": "python",
   "pygments_lexer": "ipython3",
   "version": "3.8.5"
  }
 },
 "nbformat": 4,
 "nbformat_minor": 4
}
